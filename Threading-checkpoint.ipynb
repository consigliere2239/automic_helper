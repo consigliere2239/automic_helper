{
 "cells": [
  {
   "cell_type": "markdown",
   "id": "c2501097",
   "metadata": {},
   "source": [
    "# THREADING "
   ]
  },
  {
   "cell_type": "markdown",
   "id": "430a0508",
   "metadata": {},
   "source": [
    "#### Thread oluşturup, fonksiyonu target olarak atayalım. Thread'imiz fonksiyonu çalıştıracak."
   ]
  },
  {
   "cell_type": "code",
   "execution_count": null,
   "id": "c3b4b190",
   "metadata": {},
   "outputs": [],
   "source": [
    "import threading\n",
    "def ornekFonksiyon(*args):\n",
    "    for i in range(10):\n",
    "        print(args, \"threadi\")\n",
    "t1=threading.Thread(target=ornekFonksiyon,args='1')\n",
    "t2=threading.Thread(target=ornekFonksiyon,args='2')\n",
    "\n",
    "\n",
    "t1.start()\n",
    "t2.start()\n",
    "t1.join()\n",
    "t2.join()"
   ]
  },
  {
   "cell_type": "markdown",
   "id": "ece73a94",
   "metadata": {},
   "source": [
    "#### Threadler birbirini kesip rastgele bir sırayla çalışacaklar."
   ]
  },
  {
   "cell_type": "markdown",
   "id": "c1013690",
   "metadata": {},
   "source": [
    "# ÇAMAŞIR MAKİNESİ ÖRNEĞİ\n",
    "\n",
    "Gerçek hayata indirgemeye çalışmak amacıyla Multi-Threading iki fonksiyon oluşturalım. \n",
    "İlk fonksiyon camasirMakine() sürekli çamaşırları döndürüyor ve suyla yıkıyor. Saniyede bir ise çalışmakta olduğunu belirten bir yazı döndürüyor. İkinci fonksiyon ise çamaşır makinasının su haricindeki gerekli malzemelerini ekleyen bir fonksiyon. Çalışan makinaya deterjan, parlatıcı ve köpürtücü  ekliyor. Hatta ve hatta eğer sistemimizin daha da eşzamanlı işlemesini istersek bu malzemelerin herbirini ayrı bir fonksiyona çevirip halihazırda 2-thread içeren sistemimizi 4-thread içeren bir hale getirebilirdik. Çünkü malzemelerin hangisinin ne sırada konduğunun bir önemi yok. Malzemeleri liste şeklinde verdiğimiz için sırayla her birini 3 kere ekleyecek. \n"
   ]
  },
  {
   "cell_type": "code",
   "execution_count": null,
   "id": "1bc356eb",
   "metadata": {},
   "outputs": [],
   "source": [
    "import threading\n",
    "import time\n",
    "\n",
    "def camasirMakine():\n",
    "    while True:\n",
    "        time.sleep(1)\n",
    "        print(\"Camasir Makinesi Calisiyor\")\n",
    "\n",
    "def ornekFonksiyon(*args):\n",
    "    for j in range(3):\n",
    "        for i in args:\n",
    "            time.sleep(1)\n",
    "            print(i,\"eklendi\")\n",
    "liste = [\"Deterjan\", \"Parlatici\",\"Kopurtucu\"]\n",
    "\n",
    "t1= threading.Thread(target=camasirMakine, daemon=True)\n",
    "t2= threading.Thread(target=ornekFonksiyon,args=(liste))\n",
    "t1.start()\n",
    "t2.start()"
   ]
  },
  {
   "cell_type": "markdown",
   "id": "57f8f41f",
   "metadata": {},
   "source": [
    "## Join Kavramı\n",
    "Çamaşır makinamızın her malzemeyi 3'er kere ekledikten sonra, listedeki argümanları çıkartmasını sağlayan bir thread ekleyelim.Ancak thread'lerin EŞ ZAMANLI çalışmaları malzemelerin hepsi yeteri kadar henüz eklenmeden listeden çıkarılabilir. Bunu önlemek için Join() kullanılır. Henüz başlatılmayan bir thread \"join()\"lenen bir thread tamamen işini bitirmeden devreye giremez. Join() kavramı öncelik sağlar. "
   ]
  },
  {
   "cell_type": "code",
   "execution_count": null,
   "id": "bf813575",
   "metadata": {},
   "outputs": [],
   "source": [
    "import threading\n",
    "import time\n",
    "\n",
    "def camasirMakine():\n",
    "    while True:\n",
    "        time.sleep(1)\n",
    "        print(\"Camasir Makinesi Calisiyor\")\n",
    "def ornekFonksiyon(*args):\n",
    "    for j in range(3):\n",
    "        for i in args:\n",
    "            time.sleep(1)\n",
    "            print(i,\"eklendi\")\n",
    "liste=[\"Deterjan\",\"Parlatici\",\"Kopurtucu\"]\n",
    "\n",
    "def cikar(*q):\n",
    "    print(liste)\n",
    "    \n",
    "    for i in range(2,0,-1):\n",
    "        liste.pop(i)\n",
    "        print(liste)\n",
    "\n",
    "t1= threading.Thread(target=camasirMakine, daemon=True)\n",
    "t2= threading.Thread(target=ornekFonksiyon,args=(liste))\n",
    "t3= threading.Thread(target=cikar,args=(liste))\n",
    "\n",
    "t2.start()\n",
    "t2.join()\n",
    "t3.start()"
   ]
  },
  {
   "cell_type": "markdown",
   "id": "cbab0e18",
   "metadata": {},
   "source": [
    "Şimdi de çamaşır makinemize cikar() fonksiyonunun kopyasını başka bir isimle define edelim. Threadler birbirini interrupt edecekleri için index hatası alacaklardır. Bu yüzden for döngüsünü in range methodu yerine sadece in ile tekrar yazmak gerekir. Hangi methodun pop işlemini yaptığını anlamak için thread numaralarını string olarak parametre atıp her işlem öncesinde yazdıralım. Bu işlemleri yaptıktan sonra tamamiyle aynı işleve sahip iki fonksiyonu thread olarak başlatalım. "
   ]
  },
  {
   "cell_type": "code",
   "execution_count": null,
   "id": "bb33aec5",
   "metadata": {},
   "outputs": [],
   "source": [
    "import threading\n",
    "import time\n",
    "\n",
    "def camasirMakine(): \n",
    "    while True:\n",
    "        time.sleep(1)\n",
    "        print(\"Camasir Makinesi Calisiyor\")\n",
    "\n",
    "def ornekFonksiyon(*args):\n",
    "    for j in range(3): \n",
    "        for i in args:\n",
    "            time.sleep(1)\n",
    "            print(i ,\"eklendi\")\n",
    "liste=[\"Deterjan\",\"Parlatici\",\"Kopurtucu\"]\n",
    "\n",
    "def cikar(string,*q):\n",
    "    \n",
    "    print(string, liste)\n",
    "    \n",
    "    for i in liste:\n",
    "        print(string,end=\" \")\n",
    "        liste.pop()\n",
    "        print(liste)\n",
    "\n",
    "def cikar2(string,*q):\n",
    "    \n",
    "    print(string, liste)\n",
    "    \n",
    "    for i in liste:\n",
    "        print(string,end=\" \")\n",
    "        liste.pop()\n",
    "        print(liste)\n",
    "\n",
    "    \n",
    "    \n",
    "    \n",
    "t1 = threading.Thread(target=camasirMakine, daemon=True)\n",
    "t2 = threading.Thread(target=ornekFonksiyon, args = (liste))\n",
    "t3 = threading.Thread(target=cikar,args=(\"t3\",liste))\n",
    "t4 = threading.Thread(target=cikar2,args=(\"t4\",liste))\n",
    "t2.start()\n",
    "t2.join()\n",
    "t3.start()\n",
    "t4.start()"
   ]
  },
  {
   "cell_type": "markdown",
   "id": "c142c515",
   "metadata": {},
   "source": [
    "t3 ve t4 threadleri eşzamanlı çalışacakları için, iki thread aynı argüman üzerinde işlem yapabilirler. Bu da örnekte olduğu gibi silinme işleminin tekrar yapılmasına veya başka bir örnekte threadlerin durmasına neden olabilir. Bundan kaçınmak için liste şeklinde verilen argümanı queue şeklinde vermek daha doğru olacaktır."
   ]
  },
  {
   "cell_type": "markdown",
   "id": "51bce532",
   "metadata": {},
   "source": [
    "## Threading Modülü Methodları\n",
    "Aşağıda bazı threading modülü methodları verilmiştir.\n",
    "\n",
    "activeCount() = Aktif olarak çalışan thread sayısını döndürür.\n",
    "\n",
    "enumerate() = Aktif olarak çalışan thread listesini döndürür.\n",
    "\n",
    "main_thread() = Ana threadi döndürür.\n",
    "\n",
    "get_ident() = Threadin tanımlayıcısını döndürür."
   ]
  },
  {
   "cell_type": "code",
   "execution_count": null,
   "id": "3f28b1ae",
   "metadata": {},
   "outputs": [],
   "source": [
    "import threading\n",
    "import time\n",
    "\n",
    "def camasirMakine(): \n",
    "    while True:\n",
    "        time.sleep(1)\n",
    "        print(\"Camasir Makinesi Calisiyor\")\n",
    "\n",
    "def ornekFonksiyon(*args):\n",
    "    for j in range(3): \n",
    "        for i in args:\n",
    "            time.sleep(1)\n",
    "            print(i ,\"eklendi\")\n",
    "liste=[\"Deterjan\",\"Parlatici\",\"Kopurtucu\"]\n",
    "\n",
    "def cikar(string,*q):\n",
    "    \n",
    "    print(string, liste)\n",
    "    \n",
    "    for i in liste:\n",
    "        print(string,end=\" \")\n",
    "        liste.pop()\n",
    "        print(liste)\n",
    "\n",
    "def cikar2(string,*q):\n",
    "    \n",
    "    print(string, liste)\n",
    "    \n",
    "    for i in liste:\n",
    "        print(string,end=\" \")\n",
    "        liste.pop()\n",
    "        print(liste)\n",
    "def t_methods():\n",
    "    \n",
    "    print(threading.enumerate(),threading.activeCount(), threading.get_ident,threading.main_thread())\n",
    "    \n",
    "\n",
    "    \n",
    "t1 = threading.Thread(target=camasirMakine, daemon=True)\n",
    "t2 = threading.Thread(target=ornekFonksiyon, args = (liste))\n",
    "t3 = threading.Thread(target=cikar,args=(\"t3\",liste))\n",
    "t4 = threading.Thread(target=cikar2,args=(\"t4\",liste))\n",
    "t5 = threading.Thread(target=t_methods, daemon = True)\n",
    "\n",
    "#t1.start()\n",
    "#t2.start()\n",
    "#t3.start()\n",
    "#t4.start()\n",
    "t5.start()\n",
    "\n",
    "\n",
    "\n",
    "\n"
   ]
  },
  {
   "cell_type": "code",
   "execution_count": null,
   "id": "15d81d05",
   "metadata": {},
   "outputs": [],
   "source": [
    "\n",
    "\n",
    "        \n",
    "    "
   ]
  },
  {
   "cell_type": "code",
   "execution_count": null,
   "id": "433e7092",
   "metadata": {},
   "outputs": [],
   "source": []
  }
 ],
 "metadata": {
  "kernelspec": {
   "display_name": "Python 3",
   "language": "python",
   "name": "python3"
  },
  "language_info": {
   "codemirror_mode": {
    "name": "ipython",
    "version": 3
   },
   "file_extension": ".py",
   "mimetype": "text/x-python",
   "name": "python",
   "nbconvert_exporter": "python",
   "pygments_lexer": "ipython3",
   "version": "3.8.8"
  }
 },
 "nbformat": 4,
 "nbformat_minor": 5
}
